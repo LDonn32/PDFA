{
 "cells": [
  {
   "cell_type": "markdown",
   "id": "77987e8e",
   "metadata": {},
   "source": [
    "# Pandas Manipulating Data"
   ]
  },
  {
   "cell_type": "markdown",
   "id": "74d43f34",
   "metadata": {},
   "source": [
    "Most of this notebook came from\n",
    "[the pandas Documentation](https://pandas.pydata.org/pandas-docs/stable/index.html)\n",
    "and\n",
    "(Real Python)[https://realpython.com/pandas-dataframe/#accessing-and-modifying-data]"
   ]
  },
  {
   "cell_type": "markdown",
   "id": "3c425c36",
   "metadata": {},
   "source": [
    "## Import the pandas\n",
    "\n",
    "and set the sample data directory and filename"
   ]
  },
  {
   "cell_type": "code",
   "execution_count": 1,
   "id": "72f9b243",
   "metadata": {},
   "outputs": [],
   "source": [
    "import pandas as pd"
   ]
  },
  {
   "cell_type": "code",
   "execution_count": 4,
   "id": "19eb44d6",
   "metadata": {},
   "outputs": [
    {
     "name": "stdout",
     "output_type": "stream",
     "text": [
      " Volume in drive C is Windows\n",
      " Volume Serial Number is DCD0-CBD8\n",
      "\n",
      " Directory of c:\\Users\\laura\\Documents\\GitHub\\PDFA\\My-Work\\data\n",
      "\n",
      "30/10/2025  11:49    <DIR>          .\n",
      "30/10/2025  12:14    <DIR>          ..\n",
      "29/10/2025  11:03            19,904 bankholidays.json\n",
      "29/10/2025  11:20                54 data.csv\n",
      "29/10/2025  10:59            25,853 iris.json\n",
      "23/10/2025  14:59                60 numbers.txt\n",
      "30/10/2025  11:49            11,349 people-100-no-header.csv\n",
      "30/10/2025  11:28            11,425 people-100.csv\n",
      "29/10/2025  10:46             2,806 projectedbirths-cso.csv\n",
      "29/10/2025  10:06                61 students.csv\n",
      "               8 File(s)         71,512 bytes\n",
      "               2 Dir(s)  367,334,273,024 bytes free\n"
     ]
    }
   ],
   "source": [
    "# just check the directory and file are there\n",
    "!dir \"../data\""
   ]
  },
  {
   "cell_type": "code",
   "execution_count": 5,
   "id": "8e77f741",
   "metadata": {},
   "outputs": [],
   "source": [
    "# up one levels to topic03 and then down into data\n",
    "datadir = \"../data/\"\n",
    "people_filename=datadir+\"people-100.csv\"\n",
    "timetable_filename = datadir+\"timetable.tsv\""
   ]
  }
 ],
 "metadata": {
  "kernelspec": {
   "display_name": "base",
   "language": "python",
   "name": "python3"
  },
  "language_info": {
   "codemirror_mode": {
    "name": "ipython",
    "version": 3
   },
   "file_extension": ".py",
   "mimetype": "text/x-python",
   "name": "python",
   "nbconvert_exporter": "python",
   "pygments_lexer": "ipython3",
   "version": "3.12.7"
  }
 },
 "nbformat": 4,
 "nbformat_minor": 5
}
