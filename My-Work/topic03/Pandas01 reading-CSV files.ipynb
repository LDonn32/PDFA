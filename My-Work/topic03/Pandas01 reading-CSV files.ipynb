{
 "cells": [
  {
   "cell_type": "markdown",
   "id": "6350a6dc",
   "metadata": {},
   "source": []
  },
  {
   "cell_type": "code",
   "execution_count": 1,
   "id": "d12ee0b1",
   "metadata": {},
   "outputs": [],
   "source": [
    "import pandas as pd"
   ]
  },
  {
   "cell_type": "code",
   "execution_count": 2,
   "id": "618ccb58",
   "metadata": {},
   "outputs": [
    {
     "name": "stdout",
     "output_type": "stream",
     "text": [
      " Volume in drive C is Windows\n",
      " Volume Serial Number is DCD0-CBD8\n",
      "\n",
      " Directory of c:\\Users\\laura\\Documents\\GitHub\\PDFA\\My-Work\n",
      "\n"
     ]
    },
    {
     "name": "stderr",
     "output_type": "stream",
     "text": [
      "File Not Found\n"
     ]
    }
   ],
   "source": [
    "# just check the directory and file are there\n",
    "!dir \"../data\""
   ]
  },
  {
   "cell_type": "code",
   "execution_count": 3,
   "id": "ea0f3fca",
   "metadata": {},
   "outputs": [],
   "source": [
    "# up one levels to topic03 and then down into data\n",
    "datadir = \"../data/\"\n",
    "filename=\"people-100.csv\""
   ]
  }
 ],
 "metadata": {
  "kernelspec": {
   "display_name": "base",
   "language": "python",
   "name": "python3"
  },
  "language_info": {
   "codemirror_mode": {
    "name": "ipython",
    "version": 3
   },
   "file_extension": ".py",
   "mimetype": "text/x-python",
   "name": "python",
   "nbconvert_exporter": "python",
   "pygments_lexer": "ipython3",
   "version": "3.12.7"
  }
 },
 "nbformat": 4,
 "nbformat_minor": 5
}
