{
 "cells": [
  {
   "cell_type": "markdown",
   "id": "a05e65b6",
   "metadata": {},
   "source": [
    "# Assignment 03\n",
    "\n",
    "Author: Laura Donnelly"
   ]
  },
  {
   "cell_type": "markdown",
   "id": "ba3a694a",
   "metadata": {},
   "source": [
    "Create a notebook called assignment03-pie.ipynb\n",
    "\n",
    "The note book should have a nice pie chart of peoples email domains in the csv file at the url\n",
    "\n",
    "https://drive.google.com/uc?id=1AWPf-pJodJKeHsARQK_RHiNsE8fjPCVK&export=download\n",
    "\n",
    "This csv file has 1000 people. You may download the data or link to it.\n",
    "\n",
    "Marks will be given for:\n",
    "\n",
    "Just creating the pie chart\n",
    "Making it look nice\n",
    "As always your code should be well laid out."
   ]
  }
 ],
 "metadata": {
  "language_info": {
   "name": "python"
  }
 },
 "nbformat": 4,
 "nbformat_minor": 5
}
